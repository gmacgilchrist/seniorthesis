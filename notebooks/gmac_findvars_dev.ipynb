{
 "cells": [
  {
   "cell_type": "code",
   "execution_count": 1,
   "id": "693936b8-ee40-4017-8dd3-2c00ece68a1d",
   "metadata": {},
   "outputs": [],
   "source": [
    "import intake\n",
    "from cmip6_preprocessing.preprocessing import combined_preprocessing\n",
    "from cmip6_preprocessing.postprocessing import combine_datasets, merge_variables, match_metrics"
   ]
  },
  {
   "cell_type": "code",
   "execution_count": 2,
   "id": "be4679e0-811a-4840-a9de-e8f75cac602e",
   "metadata": {},
   "outputs": [
    {
     "name": "stdout",
     "output_type": "stream",
     "text": [
      "\n",
      "--> The keys in the returned dictionary of datasets are constructed as follows:\n",
      "\t'activity_id.institution_id.source_id.experiment_id.member_id.table_id.variable_id.grid_label.zstore.dcpp_init_year.version'\n"
     ]
    },
    {
     "data": {
      "text/html": [
       "\n",
       "<style>\n",
       "    /* Turns off some styling */\n",
       "    progress {\n",
       "        /* gets rid of default border in Firefox and Opera. */\n",
       "        border: none;\n",
       "        /* Needs to be in here for Safari polyfill so background images work as expected. */\n",
       "        background-size: auto;\n",
       "    }\n",
       "    .progress-bar-interrupted, .progress-bar-interrupted::-webkit-progress-bar {\n",
       "        background: #F44336;\n",
       "    }\n",
       "</style>\n"
      ],
      "text/plain": [
       "<IPython.core.display.HTML object>"
      ]
     },
     "metadata": {},
     "output_type": "display_data"
    },
    {
     "data": {
      "text/html": [
       "\n",
       "    <div>\n",
       "      <progress value='267' class='' max='267' style='width:300px; height:20px; vertical-align: middle;'></progress>\n",
       "      100.00% [267/267 00:55<00:00]\n",
       "    </div>\n",
       "    "
      ],
      "text/plain": [
       "<IPython.core.display.HTML object>"
      ]
     },
     "metadata": {},
     "output_type": "display_data"
    }
   ],
   "source": [
    "variables = ['vo', 'thetao', 'so']\n",
    "z_kwargs = {'consolidated': True, 'use_cftime': True}\n",
    "kwargs = dict(zarr_kwargs=z_kwargs, storage_options={'token': 'anon'}, preprocess=combined_preprocessing, aggregate=False)\n",
    "query = dict(experiment_id=['historical'], \n",
    "             table_id=['Omon'], \n",
    "             variable_id=variables,\n",
    "             grid_label=['gr']\n",
    "            )\n",
    "\n",
    "col = intake.open_esm_datastore(\"https://storage.googleapis.com/cmip6/pangeo-cmip6.json\")\n",
    "cat = col.search(**query)\n",
    "dd = cat.to_dataset_dict(**kwargs)"
   ]
  },
  {
   "cell_type": "code",
   "execution_count": 3,
   "id": "05ca336f-e40e-4f9e-b7e9-e30ea6ed3224",
   "metadata": {},
   "outputs": [
    {
     "name": "stderr",
     "output_type": "stream",
     "text": [
      "/srv/conda/envs/notebook/lib/python3.9/site-packages/cmip6_preprocessing/postprocessing.py:122: UserWarning: CMIP.NCC.NorCPM1.historical.r19i1p1f1.Omon.gr.none failed to combine with :indexes along dimension 'time' are not equal\n",
      "  warnings.warn(f\"{cmip6_dataset_id(ds)} failed to combine with :{e}\")\n",
      "/srv/conda/envs/notebook/lib/python3.9/site-packages/cmip6_preprocessing/postprocessing.py:122: UserWarning: CMIP.NCC.NorCPM1.historical.r22i1p1f1.Omon.gr.none failed to combine with :indexes along dimension 'time' are not equal\n",
      "  warnings.warn(f\"{cmip6_dataset_id(ds)} failed to combine with :{e}\")\n",
      "/srv/conda/envs/notebook/lib/python3.9/site-packages/cmip6_preprocessing/postprocessing.py:122: UserWarning: CMIP.NCC.NorCPM1.historical.r5i1p1f1.Omon.gr.none failed to combine with :indexes along dimension 'time' are not equal\n",
      "  warnings.warn(f\"{cmip6_dataset_id(ds)} failed to combine with :{e}\")\n",
      "/srv/conda/envs/notebook/lib/python3.9/site-packages/cmip6_preprocessing/postprocessing.py:122: UserWarning: CMIP.NCAR.CESM2-WACCM-FV2.historical.r3i1p1f1.Omon.gr.none failed to combine with :indexes along dimension 'time' are not equal\n",
      "  warnings.warn(f\"{cmip6_dataset_id(ds)} failed to combine with :{e}\")\n",
      "/srv/conda/envs/notebook/lib/python3.9/site-packages/cmip6_preprocessing/postprocessing.py:122: UserWarning: CMIP.NCC.NorCPM1.historical.r21i1p1f1.Omon.gr.none failed to combine with :indexes along dimension 'time' are not equal\n",
      "  warnings.warn(f\"{cmip6_dataset_id(ds)} failed to combine with :{e}\")\n",
      "/srv/conda/envs/notebook/lib/python3.9/site-packages/cmip6_preprocessing/postprocessing.py:122: UserWarning: CMIP.NCC.NorCPM1.historical.r17i1p1f1.Omon.gr.none failed to combine with :indexes along dimension 'time' are not equal\n",
      "  warnings.warn(f\"{cmip6_dataset_id(ds)} failed to combine with :{e}\")\n",
      "/srv/conda/envs/notebook/lib/python3.9/site-packages/cmip6_preprocessing/postprocessing.py:122: UserWarning: CMIP.NCC.NorCPM1.historical.r23i1p1f1.Omon.gr.none failed to combine with :indexes along dimension 'time' are not equal\n",
      "  warnings.warn(f\"{cmip6_dataset_id(ds)} failed to combine with :{e}\")\n",
      "/srv/conda/envs/notebook/lib/python3.9/site-packages/cmip6_preprocessing/postprocessing.py:122: UserWarning: CMIP.NCC.NorCPM1.historical.r12i1p1f1.Omon.gr.none failed to combine with :indexes along dimension 'time' are not equal\n",
      "  warnings.warn(f\"{cmip6_dataset_id(ds)} failed to combine with :{e}\")\n",
      "/srv/conda/envs/notebook/lib/python3.9/site-packages/cmip6_preprocessing/postprocessing.py:122: UserWarning: CMIP.NCC.NorCPM1.historical.r1i1p1f1.Omon.gr.none failed to combine with :indexes along dimension 'time' are not equal\n",
      "  warnings.warn(f\"{cmip6_dataset_id(ds)} failed to combine with :{e}\")\n",
      "/srv/conda/envs/notebook/lib/python3.9/site-packages/cmip6_preprocessing/postprocessing.py:122: UserWarning: CMIP.NCC.NorCPM1.historical.r14i1p1f1.Omon.gr.none failed to combine with :indexes along dimension 'time' are not equal\n",
      "  warnings.warn(f\"{cmip6_dataset_id(ds)} failed to combine with :{e}\")\n",
      "/srv/conda/envs/notebook/lib/python3.9/site-packages/cmip6_preprocessing/postprocessing.py:122: UserWarning: CMIP.NCC.NorCPM1.historical.r7i1p1f1.Omon.gr.none failed to combine with :indexes along dimension 'time' are not equal\n",
      "  warnings.warn(f\"{cmip6_dataset_id(ds)} failed to combine with :{e}\")\n",
      "/srv/conda/envs/notebook/lib/python3.9/site-packages/cmip6_preprocessing/postprocessing.py:122: UserWarning: CMIP.NCC.NorCPM1.historical.r24i1p1f1.Omon.gr.none failed to combine with :indexes along dimension 'time' are not equal\n",
      "  warnings.warn(f\"{cmip6_dataset_id(ds)} failed to combine with :{e}\")\n",
      "/srv/conda/envs/notebook/lib/python3.9/site-packages/cmip6_preprocessing/postprocessing.py:122: UserWarning: CMIP.NCC.NorCPM1.historical.r26i1p1f1.Omon.gr.none failed to combine with :indexes along dimension 'time' are not equal\n",
      "  warnings.warn(f\"{cmip6_dataset_id(ds)} failed to combine with :{e}\")\n",
      "/srv/conda/envs/notebook/lib/python3.9/site-packages/cmip6_preprocessing/postprocessing.py:122: UserWarning: CMIP.NCC.NorCPM1.historical.r18i1p1f1.Omon.gr.none failed to combine with :indexes along dimension 'time' are not equal\n",
      "  warnings.warn(f\"{cmip6_dataset_id(ds)} failed to combine with :{e}\")\n",
      "/srv/conda/envs/notebook/lib/python3.9/site-packages/cmip6_preprocessing/postprocessing.py:122: UserWarning: CMIP.NCC.NorCPM1.historical.r2i1p1f1.Omon.gr.none failed to combine with :indexes along dimension 'time' are not equal\n",
      "  warnings.warn(f\"{cmip6_dataset_id(ds)} failed to combine with :{e}\")\n",
      "/srv/conda/envs/notebook/lib/python3.9/site-packages/cmip6_preprocessing/postprocessing.py:122: UserWarning: CMIP.NCC.NorCPM1.historical.r15i1p1f1.Omon.gr.none failed to combine with :indexes along dimension 'time' are not equal\n",
      "  warnings.warn(f\"{cmip6_dataset_id(ds)} failed to combine with :{e}\")\n",
      "/srv/conda/envs/notebook/lib/python3.9/site-packages/cmip6_preprocessing/postprocessing.py:122: UserWarning: CMIP.NCC.NorCPM1.historical.r10i1p1f1.Omon.gr.none failed to combine with :indexes along dimension 'time' are not equal\n",
      "  warnings.warn(f\"{cmip6_dataset_id(ds)} failed to combine with :{e}\")\n",
      "/srv/conda/envs/notebook/lib/python3.9/site-packages/cmip6_preprocessing/postprocessing.py:122: UserWarning: CMIP.NCAR.CESM2-FV2.historical.r3i1p1f1.Omon.gr.none failed to combine with :indexes along dimension 'time' are not equal\n",
      "  warnings.warn(f\"{cmip6_dataset_id(ds)} failed to combine with :{e}\")\n",
      "/srv/conda/envs/notebook/lib/python3.9/site-packages/cmip6_preprocessing/postprocessing.py:122: UserWarning: CMIP.NCAR.CESM2-FV2.historical.r2i1p1f1.Omon.gr.none failed to combine with :indexes along dimension 'time' are not equal\n",
      "  warnings.warn(f\"{cmip6_dataset_id(ds)} failed to combine with :{e}\")\n",
      "/srv/conda/envs/notebook/lib/python3.9/site-packages/cmip6_preprocessing/postprocessing.py:122: UserWarning: CMIP.NCC.NorCPM1.historical.r25i1p1f1.Omon.gr.none failed to combine with :indexes along dimension 'time' are not equal\n",
      "  warnings.warn(f\"{cmip6_dataset_id(ds)} failed to combine with :{e}\")\n",
      "/srv/conda/envs/notebook/lib/python3.9/site-packages/cmip6_preprocessing/postprocessing.py:122: UserWarning: CMIP.NCC.NorCPM1.historical.r4i1p1f1.Omon.gr.none failed to combine with :indexes along dimension 'time' are not equal\n",
      "  warnings.warn(f\"{cmip6_dataset_id(ds)} failed to combine with :{e}\")\n",
      "/srv/conda/envs/notebook/lib/python3.9/site-packages/cmip6_preprocessing/postprocessing.py:122: UserWarning: CMIP.E3SM-Project.E3SM-1-0.historical.r5i1p1f1.Omon.gr.none failed to combine with :indexes along dimension 'time' are not equal\n",
      "  warnings.warn(f\"{cmip6_dataset_id(ds)} failed to combine with :{e}\")\n",
      "/srv/conda/envs/notebook/lib/python3.9/site-packages/cmip6_preprocessing/postprocessing.py:122: UserWarning: CMIP.NCC.NorCPM1.historical.r30i1p1f1.Omon.gr.none failed to combine with :indexes along dimension 'time' are not equal\n",
      "  warnings.warn(f\"{cmip6_dataset_id(ds)} failed to combine with :{e}\")\n",
      "/srv/conda/envs/notebook/lib/python3.9/site-packages/cmip6_preprocessing/postprocessing.py:122: UserWarning: CMIP.NCC.NorCPM1.historical.r20i1p1f1.Omon.gr.none failed to combine with :indexes along dimension 'time' are not equal\n",
      "  warnings.warn(f\"{cmip6_dataset_id(ds)} failed to combine with :{e}\")\n",
      "/srv/conda/envs/notebook/lib/python3.9/site-packages/cmip6_preprocessing/postprocessing.py:122: UserWarning: CMIP.NCC.NorCPM1.historical.r9i1p1f1.Omon.gr.none failed to combine with :indexes along dimension 'time' are not equal\n",
      "  warnings.warn(f\"{cmip6_dataset_id(ds)} failed to combine with :{e}\")\n",
      "/srv/conda/envs/notebook/lib/python3.9/site-packages/cmip6_preprocessing/postprocessing.py:122: UserWarning: CMIP.NCC.NorCPM1.historical.r27i1p1f1.Omon.gr.none failed to combine with :indexes along dimension 'time' are not equal\n",
      "  warnings.warn(f\"{cmip6_dataset_id(ds)} failed to combine with :{e}\")\n",
      "/srv/conda/envs/notebook/lib/python3.9/site-packages/cmip6_preprocessing/postprocessing.py:122: UserWarning: CMIP.NCC.NorCPM1.historical.r16i1p1f1.Omon.gr.none failed to combine with :indexes along dimension 'time' are not equal\n",
      "  warnings.warn(f\"{cmip6_dataset_id(ds)} failed to combine with :{e}\")\n",
      "/srv/conda/envs/notebook/lib/python3.9/site-packages/cmip6_preprocessing/postprocessing.py:122: UserWarning: CMIP.NCC.NorCPM1.historical.r28i1p1f1.Omon.gr.none failed to combine with :indexes along dimension 'time' are not equal\n",
      "  warnings.warn(f\"{cmip6_dataset_id(ds)} failed to combine with :{e}\")\n",
      "/srv/conda/envs/notebook/lib/python3.9/site-packages/cmip6_preprocessing/postprocessing.py:122: UserWarning: CMIP.NCAR.CESM2-WACCM-FV2.historical.r2i1p1f1.Omon.gr.none failed to combine with :indexes along dimension 'time' are not equal\n",
      "  warnings.warn(f\"{cmip6_dataset_id(ds)} failed to combine with :{e}\")\n",
      "/srv/conda/envs/notebook/lib/python3.9/site-packages/cmip6_preprocessing/postprocessing.py:122: UserWarning: CMIP.NCC.NorCPM1.historical.r13i1p1f1.Omon.gr.none failed to combine with :indexes along dimension 'time' are not equal\n",
      "  warnings.warn(f\"{cmip6_dataset_id(ds)} failed to combine with :{e}\")\n",
      "/srv/conda/envs/notebook/lib/python3.9/site-packages/cmip6_preprocessing/postprocessing.py:122: UserWarning: CMIP.NCC.NorCPM1.historical.r29i1p1f1.Omon.gr.none failed to combine with :indexes along dimension 'time' are not equal\n",
      "  warnings.warn(f\"{cmip6_dataset_id(ds)} failed to combine with :{e}\")\n",
      "/srv/conda/envs/notebook/lib/python3.9/site-packages/cmip6_preprocessing/postprocessing.py:122: UserWarning: CMIP.NCC.NorCPM1.historical.r6i1p1f1.Omon.gr.none failed to combine with :indexes along dimension 'time' are not equal\n",
      "  warnings.warn(f\"{cmip6_dataset_id(ds)} failed to combine with :{e}\")\n",
      "/srv/conda/envs/notebook/lib/python3.9/site-packages/cmip6_preprocessing/postprocessing.py:122: UserWarning: CMIP.NCC.NorCPM1.historical.r11i1p1f1.Omon.gr.none failed to combine with :indexes along dimension 'time' are not equal\n",
      "  warnings.warn(f\"{cmip6_dataset_id(ds)} failed to combine with :{e}\")\n",
      "/srv/conda/envs/notebook/lib/python3.9/site-packages/cmip6_preprocessing/postprocessing.py:122: UserWarning: CMIP.NCC.NorCPM1.historical.r8i1p1f1.Omon.gr.none failed to combine with :indexes along dimension 'time' are not equal\n",
      "  warnings.warn(f\"{cmip6_dataset_id(ds)} failed to combine with :{e}\")\n",
      "/srv/conda/envs/notebook/lib/python3.9/site-packages/cmip6_preprocessing/postprocessing.py:122: UserWarning: CMIP.NCC.NorCPM1.historical.r3i1p1f1.Omon.gr.none failed to combine with :indexes along dimension 'time' are not equal\n",
      "  warnings.warn(f\"{cmip6_dataset_id(ds)} failed to combine with :{e}\")\n"
     ]
    },
    {
     "data": {
      "text/plain": [
       "['GISS-E2-1-H.gr.historical.Omon',\n",
       " 'NorESM2-LM.gr.historical.Omon',\n",
       " 'CESM2.gr.historical.Omon',\n",
       " 'NorESM2-MM.gr.historical.Omon',\n",
       " 'MRI-ESM2-0.gr.historical.Omon',\n",
       " 'GFDL-ESM4.gr.historical.Omon',\n",
       " 'E3SM-1-0.gr.historical.Omon',\n",
       " 'CESM2-WACCM.gr.historical.Omon',\n",
       " 'GISS-E2-2-H.gr.historical.Omon',\n",
       " 'GFDL-CM4.gr.historical.Omon',\n",
       " 'EC-Earth3-Veg.gr.historical.Omon',\n",
       " 'E3SM-1-1-ECA.gr.historical.Omon',\n",
       " 'E3SM-1-1.gr.historical.Omon',\n",
       " 'CESM2-FV2.gr.historical.Omon',\n",
       " 'CESM2-WACCM-FV2.gr.historical.Omon']"
      ]
     },
     "execution_count": 3,
     "metadata": {},
     "output_type": "execute_result"
    }
   ],
   "source": [
    "def pick_first_member(ds_list, **kwargs):\n",
    "    return ds_list[0]\n",
    "\n",
    "ddnow = merge_variables(dd)\n",
    "ddnow = combine_datasets(\n",
    "    ddnow,\n",
    "    pick_first_member,\n",
    "    match_attrs=['source_id', 'grid_label', 'experiment_id', 'table_id']\n",
    ")\n",
    "list(ddnow.keys())"
   ]
  },
  {
   "cell_type": "code",
   "execution_count": 5,
   "id": "78c944ac-65db-4f33-8f95-762942b89de5",
   "metadata": {},
   "outputs": [
    {
     "data": {
      "text/plain": [
       "['GISS-E2-1-H.gr.historical.Omon',\n",
       " 'E3SM-1-0.gr.historical.Omon',\n",
       " 'E3SM-1-1-ECA.gr.historical.Omon',\n",
       " 'E3SM-1-1.gr.historical.Omon']"
      ]
     },
     "execution_count": 5,
     "metadata": {},
     "output_type": "execute_result"
    }
   ],
   "source": [
    "ddsub = {}\n",
    "for d in ddnow.keys():\n",
    "    vs = ddnow[d].data_vars\n",
    "    if ('vo' in vs) & ('thetao' in vs) & ('so' in vs):\n",
    "        ddsub[d] = ddnow[d]\n",
    "list(ddsub.keys())"
   ]
  },
  {
   "cell_type": "code",
   "execution_count": null,
   "id": "8cde216b-e89d-4473-aa3b-24dbbd4331a5",
   "metadata": {},
   "outputs": [],
   "source": []
  }
 ],
 "metadata": {
  "kernelspec": {
   "display_name": "Python 3 (ipykernel)",
   "language": "python",
   "name": "python3"
  },
  "language_info": {
   "codemirror_mode": {
    "name": "ipython",
    "version": 3
   },
   "file_extension": ".py",
   "mimetype": "text/x-python",
   "name": "python",
   "nbconvert_exporter": "python",
   "pygments_lexer": "ipython3",
   "version": "3.9.10"
  }
 },
 "nbformat": 4,
 "nbformat_minor": 5
}
