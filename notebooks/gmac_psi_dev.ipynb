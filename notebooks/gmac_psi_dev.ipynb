{
 "cells": [
  {
   "cell_type": "code",
   "execution_count": 194,
   "id": "0829c545-4a36-444e-bd30-865b1eba5826",
   "metadata": {},
   "outputs": [
    {
     "name": "stdout",
     "output_type": "stream",
     "text": [
      "The autoreload extension is already loaded. To reload it, use:\n",
      "  %reload_ext autoreload\n"
     ]
    }
   ],
   "source": [
    "%load_ext autoreload\n",
    "%autoreload 2"
   ]
  },
  {
   "cell_type": "code",
   "execution_count": 195,
   "id": "d96f5306-fa5f-4602-9599-675259a9d66c",
   "metadata": {},
   "outputs": [],
   "source": [
    "import xarray as xr\n",
    "import matplotlib.pyplot as plt\n",
    "import intake\n",
    "from cmip6_preprocessing.preprocessing import combined_preprocessing\n",
    "from cmip6_preprocessing.postprocessing import combine_datasets, merge_variables, match_metrics\n",
    "import utils.geo as geo\n",
    "import numpy as np\n",
    "import gsw\n",
    "\n",
    "from xgcm import Grid"
   ]
  },
  {
   "cell_type": "code",
   "execution_count": 231,
   "id": "40923757-e1c4-45c8-9a3d-78b2499556c1",
   "metadata": {},
   "outputs": [
    {
     "name": "stdout",
     "output_type": "stream",
     "text": [
      "\n",
      "--> The keys in the returned dictionary of datasets are constructed as follows:\n",
      "\t'activity_id.institution_id.source_id.experiment_id.member_id.table_id.variable_id.grid_label.zstore.dcpp_init_year.version'\n"
     ]
    },
    {
     "data": {
      "text/html": [
       "\n",
       "<style>\n",
       "    /* Turns off some styling */\n",
       "    progress {\n",
       "        /* gets rid of default border in Firefox and Opera. */\n",
       "        border: none;\n",
       "        /* Needs to be in here for Safari polyfill so background images work as expected. */\n",
       "        background-size: auto;\n",
       "    }\n",
       "    .progress-bar-interrupted, .progress-bar-interrupted::-webkit-progress-bar {\n",
       "        background: #F44336;\n",
       "    }\n",
       "</style>\n"
      ],
      "text/plain": [
       "<IPython.core.display.HTML object>"
      ]
     },
     "metadata": {},
     "output_type": "display_data"
    },
    {
     "data": {
      "text/html": [
       "\n",
       "    <div>\n",
       "      <progress value='73' class='' max='73' style='width:300px; height:20px; vertical-align: middle;'></progress>\n",
       "      100.00% [73/73 00:11<00:00]\n",
       "    </div>\n",
       "    "
      ],
      "text/plain": [
       "<IPython.core.display.HTML object>"
      ]
     },
     "metadata": {},
     "output_type": "display_data"
    }
   ],
   "source": [
    "variables = ['vo', 'thetao', 'so']\n",
    "z_kwargs = {'consolidated': True, 'use_cftime': True}\n",
    "kwargs = dict(zarr_kwargs=z_kwargs, storage_options={'token': 'anon'}, preprocess=combined_preprocessing, aggregate=False)\n",
    "query = dict(experiment_id=['historical'], \n",
    "             table_id=['Omon'], \n",
    "             variable_id=variables,\n",
    "             grid_label=['gr'],\n",
    "             source_id=['GISS-E2-1-H']# 'GISS-E2-1-H', 'E3SM-1-1-ECA', 'E3SM-1-1'\n",
    "            )\n",
    "\n",
    "col = intake.open_esm_datastore(\"https://storage.googleapis.com/cmip6/pangeo-cmip6.json\")\n",
    "cat = col.search(**query)\n",
    "dd = cat.to_dataset_dict(**kwargs)"
   ]
  },
  {
   "cell_type": "code",
   "execution_count": 232,
   "id": "5a379220-de1e-469c-a744-9db74fcc8ded",
   "metadata": {},
   "outputs": [],
   "source": [
    "def pick_first_member(ds_list, **kwargs):\n",
    "    return ds_list[0]\n",
    "\n",
    "ddnow = merge_variables(dd)\n",
    "ddnow = combine_datasets(\n",
    "    ddnow,\n",
    "    pick_first_member,\n",
    "    match_attrs=['source_id', 'grid_label', 'experiment_id', 'table_id']\n",
    ")\n",
    "list(ddnow.keys())\n",
    "ds = ddnow['GISS-E2-1-H.gr.historical.Omon'].isel(time=slice(0,36))"
   ]
  },
  {
   "cell_type": "code",
   "execution_count": 233,
   "id": "d46bfc41-b923-4f1f-a622-6ee0c8ded796",
   "metadata": {},
   "outputs": [],
   "source": [
    "# Thermodynamics\n",
    "ds['sigma0'] = gsw.sigma0(ds['so'],ds['thetao'])"
   ]
  },
  {
   "cell_type": "code",
   "execution_count": 234,
   "id": "d42dcab1-848a-4a73-8e8f-6f628b24306e",
   "metadata": {},
   "outputs": [],
   "source": [
    "# Get dx in meters\n",
    "dlon = ds['lon_bounds'].diff('bnds')\n",
    "dlon = dlon.where(dlon>0,1)\n",
    "dlat = ds['lat_bounds'].diff('bnds')\n",
    "dx,dy = geo._degrees_to_meters(dlon, dlat, ds['lon'], ds['lat'])\n",
    "ds['dx']=dx.squeeze()\n",
    "ds['dy']=dy.squeeze()\n",
    "# Get dz in meters\n",
    "ds['dz'] = ds['lev_bounds'].diff('bnds').squeeze()\n",
    "# Get center and outer z coords\n",
    "ds['lev'] = ds['lev_bounds'].mean('bnds').values\n",
    "ds['lev_outer'] = np.append(ds['lev_bounds'].isel(bnds=0),ds['lev_bounds'].isel(lev=-1,bnds=-1))"
   ]
  },
  {
   "cell_type": "code",
   "execution_count": 235,
   "id": "29e818fc-0017-45cf-929b-702b171c2f7c",
   "metadata": {},
   "outputs": [],
   "source": [
    "# Correct masking issue with vo\n",
    "ds['vo'] = ds['vo'].where(ds['vo']<1e2,0)"
   ]
  },
  {
   "cell_type": "code",
   "execution_count": 236,
   "id": "dd974821-30a7-4c08-8a75-915a9c4ba2a0",
   "metadata": {},
   "outputs": [],
   "source": [
    "ds['vdz'] = ds['vo']*ds['dz']\n",
    "\n",
    "xgrid = Grid(ds, coords={'Z': {'center':'lev','outer':'lev_outer'}}, periodic=False)\n",
    "ds['sigma0_i'] = xgrid.interp(ds['sigma0'],'Z',boundary='extend')\n",
    "target_sig0 = np.linspace(26, 28, 50)\n",
    "\n",
    "# Rechunk along lev_outer dimension\n",
    "ds = ds.chunk(dict(lev_outer=-1))\n",
    "\n",
    "vdzs = xgrid.transform(ds['vdz'], 'Z', target_sig0, target_data=ds['sigma0'], method = 'linear')"
   ]
  },
  {
   "cell_type": "code",
   "execution_count": 237,
   "id": "3c691492-e5b4-4297-98ff-133c13d0f732",
   "metadata": {},
   "outputs": [],
   "source": [
    "# Integrate in x\n",
    "vdzdxs = (vdzs*ds['dx']).sum('x')\n",
    "# And cumulative sum in z\n",
    "### NEED TO REVERSE THIS ###\n",
    "psi = np.cumsum(vdzdxs[:,:,::-1])[:,:,::-1]\n",
    "# psi = vdzdxs.cumsum('sigma0')"
   ]
  },
  {
   "cell_type": "code",
   "execution_count": 238,
   "id": "4294c08a-db81-423e-a6df-62ebf86df676",
   "metadata": {},
   "outputs": [
    {
     "name": "stderr",
     "output_type": "stream",
     "text": [
      "/srv/conda/envs/notebook/lib/python3.9/site-packages/numba/np/ufunc/gufunc.py:151: RuntimeWarning: divide by zero encountered in _interp_1d_linear\n",
      "  return self.ufunc(*args, **kwargs)\n",
      "/srv/conda/envs/notebook/lib/python3.9/site-packages/numba/np/ufunc/gufunc.py:151: RuntimeWarning: invalid value encountered in _interp_1d_linear\n",
      "  return self.ufunc(*args, **kwargs)\n"
     ]
    },
    {
     "data": {
      "text/plain": [
       "<matplotlib.colorbar.Colorbar at 0x7fcb31a50460>"
      ]
     },
     "execution_count": 238,
     "metadata": {},
     "output_type": "execute_result"
    },
    {
     "data": {
      "image/png": "[encoded data removed]",
      "text/plain": [
       "<Figure size 576x288 with 2 Axes>"
      ]
     },
     "metadata": {
      "needs_background": "light"
     },
     "output_type": "display_data"
    }
   ],
   "source": [
    "fig,ax = plt.subplots(figsize=(8,4))\n",
    "select = {'y':slice(-90,-30)}\n",
    "x = psi['y'].sel(**select)\n",
    "y = psi['sigma0']\n",
    "z = psi.sel(**select).mean('time').transpose()\n",
    "im = ax.pcolormesh(x,y,z,cmap='RdBu_r',vmin=-1e9,vmax=1e9)\n",
    "ax.invert_yaxis()\n",
    "plt.colorbar(im,ax=ax)"
   ]
  },
  {
   "cell_type": "code",
   "execution_count": null,
   "id": "5b0f0961-f190-49be-bb7d-d2a299ead6d7",
   "metadata": {},
   "outputs": [],
   "source": []
  }
 ],
 "metadata": {
  "kernelspec": {
   "display_name": "Python 3 (ipykernel)",
   "language": "python",
   "name": "python3"
  },
  "language_info": {
   "codemirror_mode": {
    "name": "ipython",
    "version": 3
   },
   "file_extension": ".py",
   "mimetype": "text/x-python",
   "name": "python",
   "nbconvert_exporter": "python",
   "pygments_lexer": "ipython3",
   "version": "3.9.10"
  }
 },
 "nbformat": 4,
 "nbformat_minor": 5
}
